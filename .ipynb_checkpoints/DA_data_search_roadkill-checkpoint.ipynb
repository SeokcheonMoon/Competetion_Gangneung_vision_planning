{
 "cells": [
  {
   "cell_type": "code",
   "execution_count": 1,
   "id": "5c5bd6f4-1afc-4fb4-a69f-de958ccc5452",
   "metadata": {},
   "outputs": [],
   "source": [
    "import pandas as pd\n",
    "import copy\n",
    "import requests\n",
    "from tqdm.notebook import tqdm\n",
    "from tqdm import tqdm\n",
    "import numpy as np\n",
    "from selenium import webdriver\n",
    "from selenium.webdriver.common.by import By          # - 정보 획득\n",
    "from selenium.webdriver.common.keys import Keys\n",
    "# from engine_connect import create_engine_connect, db_connection\n",
    "from sqlalchemy import create_engine\n",
    "import os\n",
    "import re\n",
    "import time\n",
    "from bs4 import BeautifulSoup\n",
    "import warnings\n",
    "import pymysql\n",
    "import math\n",
    "warnings.filterwarnings(action='ignore')\n",
    "from selenium.webdriver.common.action_chains import ActionChains\n",
    "import json\n",
    "\n",
    "\n",
    "import time\n",
    "import datetime as dt # 사용시 datetime.dt 로 사용 # 현재 시간 사용\n",
    "from datetime import datetime # 사용시 함수로 바로 사용 #-> 시간 비교"
   ]
  },
  {
   "cell_type": "code",
   "execution_count": 2,
   "id": "1dd25e81-10bd-4383-b18c-66cfced2e4ad",
   "metadata": {},
   "outputs": [],
   "source": [
    "import pandas as pd\n",
    "import seaborn as sns\n",
    "import numpy as np\n",
    "import matplotlib.pyplot as plt\n",
    "import matplotlib as mpl\n",
    "mpl.rc('font', family='NanumBarunGothic') # 혹은 다른 설치한 Nanum 폰트 사용\n",
    "plt.rcParams.update({'font.family': 'NanumBarunGothic'})\n",
    "\n",
    "import scipy\n",
    "import scipy.stats as stats\n",
    "# 경고창 무시\n",
    "import warnings\n",
    "warnings.filterwarnings('ignore')"
   ]
  },
  {
   "cell_type": "code",
   "execution_count": 3,
   "id": "ae19fbf6-cebd-4395-ab2d-b1c2b2d3fd97",
   "metadata": {},
   "outputs": [],
   "source": [
    "### 한글 폰트 설치\n",
    "import matplotlib.pyplot as plt\n",
    "from matplotlib import font_manager, rc\n",
    "import platform\n",
    "\n",
    "path = 'c:/Windows/Fonts/malgun.ttf'  # 또는 나눔고딕: 'c:/Windows/Fonts/NanumGothic.ttf'\n",
    "font_name = font_manager.FontProperties(fname=path).get_name()\n",
    "rc('font', family=font_name)"
   ]
  },
  {
   "cell_type": "code",
   "execution_count": 4,
   "id": "dc3f8ab9-0c82-4875-85a1-a22de42995af",
   "metadata": {},
   "outputs": [
    {
     "name": "stdout",
     "output_type": "stream",
     "text": [
      "Current working directory :  C:\\Develops\\Gangneung_vision_planning\n",
      "오늘 날짜 :  2024.08.05\n",
      "현재 시간 :  2024-08-05 21:31:48.396803\n"
     ]
    }
   ],
   "source": [
    "directory = os.getcwd()\n",
    "print(\"Current working directory : \", directory)\n",
    "\n",
    "#수집날짜\n",
    "folder_date = str(dt.datetime.now().date())\n",
    "folder_date = re.sub(\"-\", \".\", folder_date)\n",
    "today = re.sub(\"\\.\", \"\", folder_date)\n",
    "print('오늘 날짜 : ', folder_date)\n",
    "\n",
    "now = dt.datetime.now()\n",
    "print('현재 시간 : ', now)\n"
   ]
  },
  {
   "cell_type": "code",
   "execution_count": 5,
   "id": "08865997-3494-4278-bb7e-2ce74c6ca64b",
   "metadata": {},
   "outputs": [
    {
     "data": {
      "text/html": [
       "<div>\n",
       "<style scoped>\n",
       "    .dataframe tbody tr th:only-of-type {\n",
       "        vertical-align: middle;\n",
       "    }\n",
       "\n",
       "    .dataframe tbody tr th {\n",
       "        vertical-align: top;\n",
       "    }\n",
       "\n",
       "    .dataframe thead th {\n",
       "        text-align: right;\n",
       "    }\n",
       "</style>\n",
       "<table border=\"1\" class=\"dataframe\">\n",
       "  <thead>\n",
       "    <tr style=\"text-align: right;\">\n",
       "      <th></th>\n",
       "      <th>본부명</th>\n",
       "      <th>지사명</th>\n",
       "      <th>노선명</th>\n",
       "      <th>구간</th>\n",
       "      <th>방향</th>\n",
       "      <th>5km</th>\n",
       "      <th>발생건수</th>\n",
       "      <th>위도</th>\n",
       "      <th>경도</th>\n",
       "    </tr>\n",
       "  </thead>\n",
       "  <tbody>\n",
       "    <tr>\n",
       "      <th>0</th>\n",
       "      <td>서울경기</td>\n",
       "      <td>화성</td>\n",
       "      <td>서해안선</td>\n",
       "      <td>310~315</td>\n",
       "      <td>목포</td>\n",
       "      <td>310</td>\n",
       "      <td>3</td>\n",
       "      <td>37.217471</td>\n",
       "      <td>126.871994</td>\n",
       "    </tr>\n",
       "    <tr>\n",
       "      <th>1</th>\n",
       "      <td>서울경기</td>\n",
       "      <td>화성</td>\n",
       "      <td>서해안선</td>\n",
       "      <td>310~315</td>\n",
       "      <td>서울</td>\n",
       "      <td>310</td>\n",
       "      <td>3</td>\n",
       "      <td>37.217471</td>\n",
       "      <td>126.871994</td>\n",
       "    </tr>\n",
       "    <tr>\n",
       "      <th>2</th>\n",
       "      <td>서울경기</td>\n",
       "      <td>시흥</td>\n",
       "      <td>수도권제1순환선</td>\n",
       "      <td>100~105</td>\n",
       "      <td>판교</td>\n",
       "      <td>100</td>\n",
       "      <td>4</td>\n",
       "      <td>37.419086</td>\n",
       "      <td>126.828963</td>\n",
       "    </tr>\n",
       "    <tr>\n",
       "      <th>3</th>\n",
       "      <td>서울경기</td>\n",
       "      <td>경기광주</td>\n",
       "      <td>중부선</td>\n",
       "      <td>325~330</td>\n",
       "      <td>통영</td>\n",
       "      <td>325</td>\n",
       "      <td>6</td>\n",
       "      <td>37.248957</td>\n",
       "      <td>127.421370</td>\n",
       "    </tr>\n",
       "    <tr>\n",
       "      <th>4</th>\n",
       "      <td>서울경기</td>\n",
       "      <td>경기광주</td>\n",
       "      <td>중부선</td>\n",
       "      <td>325~330</td>\n",
       "      <td>하남</td>\n",
       "      <td>325</td>\n",
       "      <td>3</td>\n",
       "      <td>37.248957</td>\n",
       "      <td>127.421370</td>\n",
       "    </tr>\n",
       "    <tr>\n",
       "      <th>...</th>\n",
       "      <td>...</td>\n",
       "      <td>...</td>\n",
       "      <td>...</td>\n",
       "      <td>...</td>\n",
       "      <td>...</td>\n",
       "      <td>...</td>\n",
       "      <td>...</td>\n",
       "      <td>...</td>\n",
       "      <td>...</td>\n",
       "    </tr>\n",
       "    <tr>\n",
       "      <th>82</th>\n",
       "      <td>광주전남</td>\n",
       "      <td>함평</td>\n",
       "      <td>서해안선</td>\n",
       "      <td>35~40</td>\n",
       "      <td>서울</td>\n",
       "      <td>35</td>\n",
       "      <td>3</td>\n",
       "      <td>35.109966</td>\n",
       "      <td>126.481287</td>\n",
       "    </tr>\n",
       "    <tr>\n",
       "      <th>83</th>\n",
       "      <td>광주전남</td>\n",
       "      <td>함평</td>\n",
       "      <td>서해안선</td>\n",
       "      <td>55~60</td>\n",
       "      <td>서울</td>\n",
       "      <td>55</td>\n",
       "      <td>3</td>\n",
       "      <td>35.273296</td>\n",
       "      <td>126.543684</td>\n",
       "    </tr>\n",
       "    <tr>\n",
       "      <th>84</th>\n",
       "      <td>대구경북</td>\n",
       "      <td>고령</td>\n",
       "      <td>광주대구선</td>\n",
       "      <td>165~170</td>\n",
       "      <td>광주</td>\n",
       "      <td>165</td>\n",
       "      <td>5</td>\n",
       "      <td>35.753698</td>\n",
       "      <td>128.359582</td>\n",
       "    </tr>\n",
       "    <tr>\n",
       "      <th>85</th>\n",
       "      <td>부산경남</td>\n",
       "      <td>창원</td>\n",
       "      <td>남해1지선</td>\n",
       "      <td>0~5</td>\n",
       "      <td>함안</td>\n",
       "      <td>0</td>\n",
       "      <td>3</td>\n",
       "      <td>35.271400</td>\n",
       "      <td>128.474403</td>\n",
       "    </tr>\n",
       "    <tr>\n",
       "      <th>86</th>\n",
       "      <td>부산경남</td>\n",
       "      <td>창원</td>\n",
       "      <td>남해선</td>\n",
       "      <td>130~135</td>\n",
       "      <td>부산</td>\n",
       "      <td>130</td>\n",
       "      <td>4</td>\n",
       "      <td>35.271766</td>\n",
       "      <td>128.658197</td>\n",
       "    </tr>\n",
       "  </tbody>\n",
       "</table>\n",
       "<p>87 rows × 9 columns</p>\n",
       "</div>"
      ],
      "text/plain": [
       "     본부명   지사명       노선명         구간  방향  5km  발생건수         위도          경도\n",
       "0   서울경기    화성      서해안선    310~315  목포  310     3  37.217471  126.871994\n",
       "1   서울경기    화성      서해안선    310~315  서울  310     3  37.217471  126.871994\n",
       "2   서울경기    시흥  수도권제1순환선    100~105  판교  100     4  37.419086  126.828963\n",
       "3   서울경기  경기광주       중부선    325~330  통영  325     6  37.248957  127.421370\n",
       "4   서울경기  경기광주       중부선    325~330  하남  325     3  37.248957  127.421370\n",
       "..   ...   ...       ...        ...  ..  ...   ...        ...         ...\n",
       "82  광주전남    함평      서해안선     35~40   서울   35     3  35.109966  126.481287\n",
       "83  광주전남    함평      서해안선     55~60   서울   55     3  35.273296  126.543684\n",
       "84  대구경북    고령     광주대구선   165~170   광주  165     5  35.753698  128.359582\n",
       "85  부산경남    창원     남해1지선       0~5   함안    0     3  35.271400  128.474403\n",
       "86  부산경남    창원       남해선   130~135   부산  130     4  35.271766  128.658197\n",
       "\n",
       "[87 rows x 9 columns]"
      ]
     },
     "execution_count": 5,
     "metadata": {},
     "output_type": "execute_result"
    }
   ],
   "source": [
    "df_roadkill_info = pd.read_csv(f\"{directory}/data/한국도로공사_로드킬 데이터 정보_20231231.csv\", encoding='euc-kr')\n",
    "df_roadkill_info"
   ]
  },
  {
   "cell_type": "code",
   "execution_count": 6,
   "id": "03ee9ec9-e250-49b6-b902-fda2dde0d868",
   "metadata": {},
   "outputs": [
    {
     "data": {
      "text/plain": [
       "array(['서울경기', '강원', '충북', '대전충남', '전북', '광주전남', '대구경북', '부산경남'],\n",
       "      dtype=object)"
      ]
     },
     "execution_count": 6,
     "metadata": {},
     "output_type": "execute_result"
    }
   ],
   "source": [
    "df_roadkill_info[\"본부명\"].unique()"
   ]
  },
  {
   "cell_type": "code",
   "execution_count": 7,
   "id": "df968242-b061-4845-9bef-a6675cfbf8cc",
   "metadata": {},
   "outputs": [
    {
     "data": {
      "text/html": [
       "<div>\n",
       "<style scoped>\n",
       "    .dataframe tbody tr th:only-of-type {\n",
       "        vertical-align: middle;\n",
       "    }\n",
       "\n",
       "    .dataframe tbody tr th {\n",
       "        vertical-align: top;\n",
       "    }\n",
       "\n",
       "    .dataframe thead th {\n",
       "        text-align: right;\n",
       "    }\n",
       "</style>\n",
       "<table border=\"1\" class=\"dataframe\">\n",
       "  <thead>\n",
       "    <tr style=\"text-align: right;\">\n",
       "      <th></th>\n",
       "      <th>본부명</th>\n",
       "      <th>발생건수</th>\n",
       "    </tr>\n",
       "  </thead>\n",
       "  <tbody>\n",
       "    <tr>\n",
       "      <th>0</th>\n",
       "      <td>강원</td>\n",
       "      <td>44</td>\n",
       "    </tr>\n",
       "    <tr>\n",
       "      <th>1</th>\n",
       "      <td>광주전남</td>\n",
       "      <td>38</td>\n",
       "    </tr>\n",
       "    <tr>\n",
       "      <th>2</th>\n",
       "      <td>대구경북</td>\n",
       "      <td>5</td>\n",
       "    </tr>\n",
       "    <tr>\n",
       "      <th>3</th>\n",
       "      <td>대전충남</td>\n",
       "      <td>66</td>\n",
       "    </tr>\n",
       "    <tr>\n",
       "      <th>4</th>\n",
       "      <td>부산경남</td>\n",
       "      <td>7</td>\n",
       "    </tr>\n",
       "    <tr>\n",
       "      <th>5</th>\n",
       "      <td>서울경기</td>\n",
       "      <td>25</td>\n",
       "    </tr>\n",
       "    <tr>\n",
       "      <th>6</th>\n",
       "      <td>전북</td>\n",
       "      <td>49</td>\n",
       "    </tr>\n",
       "    <tr>\n",
       "      <th>7</th>\n",
       "      <td>충북</td>\n",
       "      <td>79</td>\n",
       "    </tr>\n",
       "  </tbody>\n",
       "</table>\n",
       "</div>"
      ],
      "text/plain": [
       "    본부명  발생건수\n",
       "0    강원    44\n",
       "1  광주전남    38\n",
       "2  대구경북     5\n",
       "3  대전충남    66\n",
       "4  부산경남     7\n",
       "5  서울경기    25\n",
       "6    전북    49\n",
       "7    충북    79"
      ]
     },
     "execution_count": 7,
     "metadata": {},
     "output_type": "execute_result"
    }
   ],
   "source": [
    "df_roadkill_region = df_roadkill_info.groupby('본부명')['발생건수'].sum().reset_index()\n",
    "df_roadkill_region"
   ]
  },
  {
   "cell_type": "code",
   "execution_count": null,
   "id": "ed6190a4-9fc3-40d2-a7fe-0bdc002fbaab",
   "metadata": {},
   "outputs": [],
   "source": []
  },
  {
   "cell_type": "code",
   "execution_count": 10,
   "id": "e1a57f16-0732-42bb-bebe-a768404eed65",
   "metadata": {},
   "outputs": [
    {
     "data": {
      "image/png": "[encoded data removed]",
      "text/plain": [
       "<Figure size 1000x600 with 1 Axes>"
      ]
     },
     "metadata": {},
     "output_type": "display_data"
    }
   ],
   "source": [
    "# Seaborn을 이용한 시각화\n",
    "plt.figure(figsize=(10, 6))\n",
    "sns.barplot(data=df_roadkill_region, x='본부명', y='발생건수')\n",
    "plt.title('지역별 발생건수 합계')\n",
    "plt.xlabel('지역')\n",
    "plt.ylabel('발생건수 합계')\n",
    "\n",
    "# 그래프 보여주기\n",
    "plt.show()"
   ]
  },
  {
   "cell_type": "code",
   "execution_count": 44,
   "id": "d2dcbaf4-52ac-4f10-a62b-cd7dd1972eff",
   "metadata": {},
   "outputs": [
    {
     "data": {
      "text/plain": [
       "<Axes: xlabel='본부명', ylabel='발생건수'>"
      ]
     },
     "execution_count": 44,
     "metadata": {},
     "output_type": "execute_result"
    },
    {
     "data": {
      "image/png": "[encoded data removed]",
      "text/plain": [
       "<Figure size 640x480 with 1 Axes>"
      ]
     },
     "metadata": {},
     "output_type": "display_data"
    }
   ],
   "source": [
    "sns.barplot(data = df_roadkill_info, x='본부명', y=\"발생건수\")"
   ]
  },
  {
   "cell_type": "code",
   "execution_count": null,
   "id": "1cf9d6d2-a31f-4303-9011-e032d059c0b0",
   "metadata": {},
   "outputs": [],
   "source": []
  },
  {
   "cell_type": "code",
   "execution_count": null,
   "id": "c27c46e3-ab1b-4ca5-9f16-b4d68c705e60",
   "metadata": {},
   "outputs": [],
   "source": []
  }
 ],
 "metadata": {
  "kernelspec": {
   "display_name": "Python 3 (ipykernel)",
   "language": "python",
   "name": "python3"
  },
  "language_info": {
   "codemirror_mode": {
    "name": "ipython",
    "version": 3
   },
   "file_extension": ".py",
   "mimetype": "text/x-python",
   "name": "python",
   "nbconvert_exporter": "python",
   "pygments_lexer": "ipython3",
   "version": "3.11.6"
  }
 },
 "nbformat": 4,
 "nbformat_minor": 5
}
