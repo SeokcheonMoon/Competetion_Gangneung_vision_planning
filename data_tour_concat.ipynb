{
 "cells": [
  {
   "cell_type": "code",
   "execution_count": 2,
   "id": "003dd5b8-d65c-42e7-8a73-75c08219352c",
   "metadata": {},
   "outputs": [],
   "source": [
    "import pandas as pd\n",
    "import copy\n",
    "import requests\n",
    "from tqdm.notebook import tqdm\n",
    "from tqdm import tqdm\n",
    "import numpy as np\n",
    "from selenium import webdriver\n",
    "from selenium.webdriver.common.by import By          # - 정보 획득\n",
    "from selenium.webdriver.common.keys import Keys\n",
    "# from engine_connect import create_engine_connect, db_connection\n",
    "from sqlalchemy import create_engine\n",
    "import os\n",
    "import re\n",
    "import time\n",
    "from bs4 import BeautifulSoup\n",
    "import warnings\n",
    "import pymysql\n",
    "import math\n",
    "warnings.filterwarnings(action='ignore')\n",
    "from selenium.webdriver.common.action_chains import ActionChains\n",
    "import json\n",
    "\n",
    "\n",
    "import time\n",
    "import datetime as dt # 사용시 datetime.dt 로 사용 # 현재 시간 사용\n",
    "from datetime import datetime # 사용시 함수로 바로 사용 #-> 시간 비교"
   ]
  },
  {
   "cell_type": "code",
   "execution_count": 3,
   "id": "e2fd0f11-2248-4ea3-9f11-e6a2cc03437c",
   "metadata": {},
   "outputs": [],
   "source": [
    "import pandas as pd\n",
    "import seaborn as sns\n",
    "import numpy as np\n",
    "import matplotlib.pyplot as plt\n",
    "import matplotlib as mpl\n",
    "mpl.rc('font', family='NanumBarunGothic') # 혹은 다른 설치한 Nanum 폰트 사용\n",
    "plt.rcParams.update({'font.family': 'NanumBarunGothic'})\n",
    "\n",
    "import scipy\n",
    "import scipy.stats as stats\n",
    "# 경고창 무시\n",
    "import warnings\n",
    "warnings.filterwarnings('ignore')"
   ]
  },
  {
   "cell_type": "code",
   "execution_count": 4,
   "id": "fb324640-83e1-4c32-82e0-375ceeaf45b3",
   "metadata": {},
   "outputs": [],
   "source": [
    "### 한글 폰트 설치\n",
    "import matplotlib.pyplot as plt\n",
    "from matplotlib import font_manager, rc\n",
    "import platform\n",
    "\n",
    "path = 'c:/Windows/Fonts/malgun.ttf'  # 또는 나눔고딕: 'c:/Windows/Fonts/NanumGothic.ttf'\n",
    "font_name = font_manager.FontProperties(fname=path).get_name()\n",
    "rc('font', family=font_name)"
   ]
  },
  {
   "cell_type": "code",
   "execution_count": 5,
   "id": "ff20f86d-2e17-461c-889a-2539844d9767",
   "metadata": {},
   "outputs": [
    {
     "name": "stdout",
     "output_type": "stream",
     "text": [
      "Current working directory :  C:\\Develops\\Competetion_Gangneung_vision_planning\n",
      "오늘 날짜 :  2024.08.07\n",
      "현재 시간 :  2024-08-07 21:33:28.824628\n"
     ]
    }
   ],
   "source": [
    "directory = os.getcwd()\n",
    "print(\"Current working directory : \", directory)\n",
    "\n",
    "#수집날짜\n",
    "folder_date = str(dt.datetime.now().date())\n",
    "folder_date = re.sub(\"-\", \".\", folder_date)\n",
    "today = re.sub(\"\\.\", \"\", folder_date)\n",
    "print('오늘 날짜 : ', folder_date)\n",
    "\n",
    "now = dt.datetime.now()\n",
    "print('현재 시간 : ', now)\n"
   ]
  },
  {
   "cell_type": "code",
   "execution_count": 11,
   "id": "b9830774-0f07-4b12-b1d8-d2ace8d1646d",
   "metadata": {},
   "outputs": [],
   "source": [
    "# 2022년 \n",
    "df_2022_tour_consume = pd.read_csv(f\"{directory}/data/usable/2022_관광소비 추이_내국인.csv\", encoding='euc-kr')\n",
    "df_2022_destination_search = pd.read_csv(f\"{directory}/data/usable/2022_목적지 유형별 검색량.csv\", encoding='euc-kr')\n",
    "df_2022_trend_mention = pd.read_csv(f\"{directory}/data/usable/2022_여행유형_트렌드 언급량.csv\", encoding='euc-kr')\n",
    "df_2022_trend_keyword = pd.read_csv(f\"{directory}/data/usable/2022_여행유형_트렌드 키워드.csv\", encoding='euc-kr')\n",
    "df_2022_attraction = pd.read_csv(f\"{directory}/data/usable/2022_인기관광지_외지인.csv\", encoding='euc-kr')\n",
    "df_2022_place_visitor = pd.read_csv(f\"{directory}/data/usable/2022_주요 유료관광지점 입장객 수_내국인.csv\", encoding='euc-kr')\n",
    "df_2022_popular_restaurant = pd.read_csv(f\"{directory}/data/usable/2022_지역_맛집_외지인.csv\", encoding='euc-kr')\n",
    "df_2022_sns_mention = pd.read_csv(f\"{directory}/data/usable/2022_SNS 언급량.csv\", encoding='euc-kr')"
   ]
  },
  {
   "cell_type": "code",
   "execution_count": 12,
   "id": "f74c5389-bba9-4a5e-bf8c-61e48e1e9660",
   "metadata": {},
   "outputs": [],
   "source": [
    "# 2023년 \n",
    "df_2023_tour_consume = pd.read_csv(f\"{directory}/data/usable/2023_관광소비 추이_내국인.csv\", encoding='euc-kr')\n",
    "df_2023_destination_search = pd.read_csv(f\"{directory}/data/usable/2023_목적지 유형별 검색량.csv\", encoding='euc-kr')\n",
    "df_2023_trend_mention = pd.read_csv(f\"{directory}/data/usable/2023_여행유형_트렌드 언급량.csv\", encoding='euc-kr')\n",
    "df_2023_trend_keyword = pd.read_csv(f\"{directory}/data/usable/2023_여행유형_트렌드 키워드.csv\", encoding='euc-kr')\n",
    "df_2023_attraction = pd.read_csv(f\"{directory}/data/usable/2023_인기관광지_외지인.csv\", encoding='euc-kr')\n",
    "df_2023_place_visitor = pd.read_csv(f\"{directory}/data/usable/2023_주요 유료관광지점 입장객 수_내국인.csv\", encoding='euc-kr')\n",
    "df_2023_popular_restaurant = pd.read_csv(f\"{directory}/data/usable/2023_지역_맛집_외지인.csv\", encoding='euc-kr')\n",
    "df_2023_sns_mention = pd.read_csv(f\"{directory}/data/usable/2023_SNS 언급량.csv\", encoding='euc-kr')"
   ]
  },
  {
   "cell_type": "code",
   "execution_count": 14,
   "id": "f084eaf3-b9ca-4abe-96aa-6e2ff6fc1edb",
   "metadata": {},
   "outputs": [],
   "source": [
    "df_tour_consume = pd.concat([df_2022_tour_consume,df_2023_tour_consume],ignore_index = False)\n",
    "df_destination_search = pd.concat([df_2022_destination_search,df_2023_destination_search],ignore_index = False)\n",
    "df_trend_mention = pd.concat([df_2022_trend_mention,df_2023_trend_mention],ignore_index = False)\n",
    "df_trend_keyword = pd.concat([df_2022_trend_keyword,df_2023_trend_keyword],ignore_index = False)\n",
    "df_attraction = pd.concat([df_2022_attraction,df_2023_attraction],ignore_index = False)\n",
    "df_place_visitor = pd.concat([df_2022_place_visitor,df_2023_place_visitor],ignore_index = False)\n",
    "df_popular_restaurant = pd.concat([df_2022_popular_restaurant,df_2023_popular_restaurant],ignore_index = False)\n",
    "df_sns_mention = pd.concat([df_2022_sns_mention,df_2023_sns_mention],ignore_index = False)"
   ]
  },
  {
   "cell_type": "code",
   "execution_count": null,
   "id": "1c88125b-2a53-490f-b4a0-15b03bbc4fd3",
   "metadata": {},
   "outputs": [],
   "source": []
  },
  {
   "cell_type": "code",
   "execution_count": null,
   "id": "ba08dee3-a957-4850-b671-6f80b2cb524e",
   "metadata": {},
   "outputs": [],
   "source": []
  }
 ],
 "metadata": {
  "kernelspec": {
   "display_name": "Python 3 (ipykernel)",
   "language": "python",
   "name": "python3"
  },
  "language_info": {
   "codemirror_mode": {
    "name": "ipython",
    "version": 3
   },
   "file_extension": ".py",
   "mimetype": "text/x-python",
   "name": "python",
   "nbconvert_exporter": "python",
   "pygments_lexer": "ipython3",
   "version": "3.11.6"
  }
 },
 "nbformat": 4,
 "nbformat_minor": 5
}
